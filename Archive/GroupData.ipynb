{
 "cells": [
  {
   "cell_type": "code",
   "execution_count": 76,
   "id": "88a420b7",
   "metadata": {},
   "outputs": [
    {
     "data": {
      "text/plain": [
       "[34753, 3, 1501]"
      ]
     },
     "execution_count": 76,
     "metadata": {},
     "output_type": "execute_result"
    }
   ],
   "source": [
    "import h5py as h5 \n",
    "import glob,os,ast\n",
    "import pandas as pd\n",
    "from tqdm import tqdm\n",
    "import numpy as np\n",
    "\n",
    "dloc = 'lsoa'\n",
    "files = glob.glob(dloc + '/*.csv')\n",
    "files.sort()\n",
    "df = pd.read_csv(files[0])\n",
    "codes = file.GEOGRAPHY_CODE\n",
    "shape = list(df.shape)\n",
    "shape.append(len(files))\n",
    "shape"
   ]
  },
  {
   "cell_type": "code",
   "execution_count": 77,
   "id": "b81d1da3",
   "metadata": {},
   "outputs": [],
   "source": [
    "f = h5.File('test.h5', 'a')"
   ]
  },
  {
   "cell_type": "code",
   "execution_count": 78,
   "id": "8556fe46",
   "metadata": {},
   "outputs": [],
   "source": [
    "try:del f['indicators']\n",
    "except:None\n",
    "indicators = f.create_dataset(\"indicators\", (shape[0],shape[2],shape[1]), dtype='i8')"
   ]
  },
  {
   "cell_type": "code",
   "execution_count": 80,
   "id": "2650a341",
   "metadata": {},
   "outputs": [
    {
     "name": "stderr",
     "output_type": "stream",
     "text": [
      "100%|███████████████████████████████████████| 1501/1501 [00:41<00:00, 36.59it/s]\n"
     ]
    }
   ],
   "source": [
    "j=0\n",
    "dummy = np.empty(shape=(shape[0],shape[2],shape[1]))\n",
    "for i in tqdm(files):\n",
    "    df = pd.read_csv(i).set_index('GEOGRAPHY_CODE').loc[codes]\n",
    "    df['perc'] = (df[df.columns[-1]]/df['0'])*100\n",
    "    dummy[:,j,:] = df.values\n",
    "#     indicator_codes.append([os.path.basename(i).split('.')[0],id])\n",
    "    j += 1\n",
    "\n"
   ]
  },
  {
   "cell_type": "code",
   "execution_count": 83,
   "id": "94913baf",
   "metadata": {},
   "outputs": [],
   "source": [
    "indicators[:,:,:] = dummy.astype('i8')"
   ]
  },
  {
   "cell_type": "code",
   "execution_count": 97,
   "id": "578e8710",
   "metadata": {},
   "outputs": [],
   "source": [
    "GEOCD = dict( zip(codes,range(len(codes)) ))\n",
    "f.attrs['GEOCD'] = str(GEOCD)\n",
    "fname = dict( [[os.path.basename(i).split('.')[0],j] for j,i in enumerate(files) ])\n",
    "f.attrs['INDICATORS'] = str(fname)\n",
    "f.attrs['VALUE'] = str(dict(value=0,count=1,percent=2))\n",
    "f.attrs['order'] = 'indicators,geocd,values'\n"
   ]
  },
  {
   "cell_type": "code",
   "execution_count": 101,
   "id": "005f92c5",
   "metadata": {},
   "outputs": [
    {
     "data": {
      "text/plain": [
       "{'value': 0, 'count': 1, 'percent': 2}"
      ]
     },
     "execution_count": 101,
     "metadata": {},
     "output_type": "execute_result"
    }
   ],
   "source": [
    "# turn back into a dict\n",
    "ast.literal_eval(f.attrs['VALUE'])\n"
   ]
  },
  {
   "cell_type": "code",
   "execution_count": 103,
   "id": "65345cb6",
   "metadata": {},
   "outputs": [
    {
     "data": {
      "text/plain": [
       "256"
      ]
     },
     "execution_count": 103,
     "metadata": {},
     "output_type": "execute_result"
    }
   ],
   "source": [
    "# max percent \n",
    "f['indicators'][:,:,2].max()"
   ]
  },
  {
   "cell_type": "code",
   "execution_count": 104,
   "id": "cd4e8e5e",
   "metadata": {},
   "outputs": [],
   "source": [
    "\n",
    "\n",
    "f.close()"
   ]
  },
  {
   "cell_type": "code",
   "execution_count": 110,
   "id": "2562bb72",
   "metadata": {},
   "outputs": [
    {
     "data": {
      "text/html": [
       "<div>\n",
       "<style scoped>\n",
       "    .dataframe tbody tr th:only-of-type {\n",
       "        vertical-align: middle;\n",
       "    }\n",
       "\n",
       "    .dataframe tbody tr th {\n",
       "        vertical-align: top;\n",
       "    }\n",
       "\n",
       "    .dataframe thead th {\n",
       "        text-align: right;\n",
       "    }\n",
       "</style>\n",
       "<table border=\"1\" class=\"dataframe\">\n",
       "  <thead>\n",
       "    <tr style=\"text-align: right;\">\n",
       "      <th></th>\n",
       "      <th>0</th>\n",
       "      <th>1</th>\n",
       "      <th>2</th>\n",
       "      <th>3</th>\n",
       "      <th>4</th>\n",
       "      <th>5</th>\n",
       "      <th>6</th>\n",
       "      <th>7</th>\n",
       "      <th>8</th>\n",
       "      <th>9</th>\n",
       "      <th>...</th>\n",
       "      <th>1491</th>\n",
       "      <th>1492</th>\n",
       "      <th>1493</th>\n",
       "      <th>1494</th>\n",
       "      <th>1495</th>\n",
       "      <th>1496</th>\n",
       "      <th>1497</th>\n",
       "      <th>1498</th>\n",
       "      <th>1499</th>\n",
       "      <th>1500</th>\n",
       "    </tr>\n",
       "  </thead>\n",
       "  <tbody>\n",
       "    <tr>\n",
       "      <th>count</th>\n",
       "      <td>34753.000000</td>\n",
       "      <td>34753.000000</td>\n",
       "      <td>34753.000000</td>\n",
       "      <td>34753.000000</td>\n",
       "      <td>34753.000000</td>\n",
       "      <td>34753.000000</td>\n",
       "      <td>34753.000000</td>\n",
       "      <td>34753.000000</td>\n",
       "      <td>34753.000000</td>\n",
       "      <td>34753.000000</td>\n",
       "      <td>...</td>\n",
       "      <td>34753.000000</td>\n",
       "      <td>34753.000000</td>\n",
       "      <td>34753.000000</td>\n",
       "      <td>34753.000000</td>\n",
       "      <td>34753.000000</td>\n",
       "      <td>34753.000000</td>\n",
       "      <td>34753.000000</td>\n",
       "      <td>34753.000000</td>\n",
       "      <td>34753.000000</td>\n",
       "      <td>34753.000000</td>\n",
       "    </tr>\n",
       "    <tr>\n",
       "      <th>mean</th>\n",
       "      <td>98.466196</td>\n",
       "      <td>1.533804</td>\n",
       "      <td>0.000370</td>\n",
       "      <td>1.254094</td>\n",
       "      <td>1.241940</td>\n",
       "      <td>1.233881</td>\n",
       "      <td>1.235854</td>\n",
       "      <td>1.208799</td>\n",
       "      <td>1.180103</td>\n",
       "      <td>1.123778</td>\n",
       "      <td>...</td>\n",
       "      <td>0.052743</td>\n",
       "      <td>0.057453</td>\n",
       "      <td>0.017153</td>\n",
       "      <td>0.002491</td>\n",
       "      <td>0.000955</td>\n",
       "      <td>87.204658</td>\n",
       "      <td>1.578918</td>\n",
       "      <td>2.027050</td>\n",
       "      <td>2.645997</td>\n",
       "      <td>6.543377</td>\n",
       "    </tr>\n",
       "    <tr>\n",
       "      <th>std</th>\n",
       "      <td>4.740312</td>\n",
       "      <td>4.740312</td>\n",
       "      <td>0.005263</td>\n",
       "      <td>0.541994</td>\n",
       "      <td>0.527746</td>\n",
       "      <td>0.501791</td>\n",
       "      <td>0.483219</td>\n",
       "      <td>0.461758</td>\n",
       "      <td>0.444467</td>\n",
       "      <td>0.415185</td>\n",
       "      <td>...</td>\n",
       "      <td>0.100033</td>\n",
       "      <td>0.106498</td>\n",
       "      <td>0.040480</td>\n",
       "      <td>0.013691</td>\n",
       "      <td>0.008248</td>\n",
       "      <td>13.546813</td>\n",
       "      <td>2.657567</td>\n",
       "      <td>2.597257</td>\n",
       "      <td>3.110633</td>\n",
       "      <td>6.784120</td>\n",
       "    </tr>\n",
       "    <tr>\n",
       "      <th>min</th>\n",
       "      <td>13.260743</td>\n",
       "      <td>0.000000</td>\n",
       "      <td>0.000000</td>\n",
       "      <td>0.000000</td>\n",
       "      <td>0.000000</td>\n",
       "      <td>0.000000</td>\n",
       "      <td>0.000000</td>\n",
       "      <td>0.000000</td>\n",
       "      <td>0.000000</td>\n",
       "      <td>0.000000</td>\n",
       "      <td>...</td>\n",
       "      <td>0.000000</td>\n",
       "      <td>0.000000</td>\n",
       "      <td>0.000000</td>\n",
       "      <td>0.000000</td>\n",
       "      <td>0.000000</td>\n",
       "      <td>17.668269</td>\n",
       "      <td>0.000000</td>\n",
       "      <td>0.000000</td>\n",
       "      <td>0.000000</td>\n",
       "      <td>0.156372</td>\n",
       "    </tr>\n",
       "    <tr>\n",
       "      <th>25%</th>\n",
       "      <td>98.631637</td>\n",
       "      <td>0.000000</td>\n",
       "      <td>0.000000</td>\n",
       "      <td>0.856269</td>\n",
       "      <td>0.858086</td>\n",
       "      <td>0.878378</td>\n",
       "      <td>0.901442</td>\n",
       "      <td>0.887902</td>\n",
       "      <td>0.878972</td>\n",
       "      <td>0.843289</td>\n",
       "      <td>...</td>\n",
       "      <td>0.000000</td>\n",
       "      <td>0.000000</td>\n",
       "      <td>0.000000</td>\n",
       "      <td>0.000000</td>\n",
       "      <td>0.000000</td>\n",
       "      <td>84.360504</td>\n",
       "      <td>0.213523</td>\n",
       "      <td>0.388601</td>\n",
       "      <td>0.589623</td>\n",
       "      <td>2.345059</td>\n",
       "    </tr>\n",
       "    <tr>\n",
       "      <th>50%</th>\n",
       "      <td>100.000000</td>\n",
       "      <td>0.000000</td>\n",
       "      <td>0.000000</td>\n",
       "      <td>1.184990</td>\n",
       "      <td>1.174628</td>\n",
       "      <td>1.175606</td>\n",
       "      <td>1.181592</td>\n",
       "      <td>1.161369</td>\n",
       "      <td>1.135718</td>\n",
       "      <td>1.091193</td>\n",
       "      <td>...</td>\n",
       "      <td>0.000000</td>\n",
       "      <td>0.000000</td>\n",
       "      <td>0.000000</td>\n",
       "      <td>0.000000</td>\n",
       "      <td>0.000000</td>\n",
       "      <td>93.056550</td>\n",
       "      <td>0.556586</td>\n",
       "      <td>0.925314</td>\n",
       "      <td>1.298053</td>\n",
       "      <td>3.862069</td>\n",
       "    </tr>\n",
       "    <tr>\n",
       "      <th>75%</th>\n",
       "      <td>100.000000</td>\n",
       "      <td>1.368363</td>\n",
       "      <td>0.000000</td>\n",
       "      <td>1.581395</td>\n",
       "      <td>1.549464</td>\n",
       "      <td>1.528839</td>\n",
       "      <td>1.513718</td>\n",
       "      <td>1.479795</td>\n",
       "      <td>1.439342</td>\n",
       "      <td>1.369863</td>\n",
       "      <td>...</td>\n",
       "      <td>0.067659</td>\n",
       "      <td>0.070126</td>\n",
       "      <td>0.000000</td>\n",
       "      <td>0.000000</td>\n",
       "      <td>0.000000</td>\n",
       "      <td>96.093101</td>\n",
       "      <td>1.692525</td>\n",
       "      <td>2.606178</td>\n",
       "      <td>3.484938</td>\n",
       "      <td>7.389831</td>\n",
       "    </tr>\n",
       "    <tr>\n",
       "      <th>max</th>\n",
       "      <td>100.000000</td>\n",
       "      <td>86.739257</td>\n",
       "      <td>0.250470</td>\n",
       "      <td>4.785894</td>\n",
       "      <td>5.857564</td>\n",
       "      <td>4.290221</td>\n",
       "      <td>4.248768</td>\n",
       "      <td>4.915347</td>\n",
       "      <td>5.941846</td>\n",
       "      <td>3.567110</td>\n",
       "      <td>...</td>\n",
       "      <td>2.600297</td>\n",
       "      <td>2.848265</td>\n",
       "      <td>0.679852</td>\n",
       "      <td>0.475436</td>\n",
       "      <td>0.240096</td>\n",
       "      <td>99.787836</td>\n",
       "      <td>40.711598</td>\n",
       "      <td>27.824519</td>\n",
       "      <td>28.541076</td>\n",
       "      <td>52.183735</td>\n",
       "    </tr>\n",
       "  </tbody>\n",
       "</table>\n",
       "<p>8 rows × 1501 columns</p>\n",
       "</div>"
      ],
      "text/plain": [
       "               0             1             2             3             4     \\\n",
       "count  34753.000000  34753.000000  34753.000000  34753.000000  34753.000000   \n",
       "mean      98.466196      1.533804      0.000370      1.254094      1.241940   \n",
       "std        4.740312      4.740312      0.005263      0.541994      0.527746   \n",
       "min       13.260743      0.000000      0.000000      0.000000      0.000000   \n",
       "25%       98.631637      0.000000      0.000000      0.856269      0.858086   \n",
       "50%      100.000000      0.000000      0.000000      1.184990      1.174628   \n",
       "75%      100.000000      1.368363      0.000000      1.581395      1.549464   \n",
       "max      100.000000     86.739257      0.250470      4.785894      5.857564   \n",
       "\n",
       "               5             6             7             8             9     \\\n",
       "count  34753.000000  34753.000000  34753.000000  34753.000000  34753.000000   \n",
       "mean       1.233881      1.235854      1.208799      1.180103      1.123778   \n",
       "std        0.501791      0.483219      0.461758      0.444467      0.415185   \n",
       "min        0.000000      0.000000      0.000000      0.000000      0.000000   \n",
       "25%        0.878378      0.901442      0.887902      0.878972      0.843289   \n",
       "50%        1.175606      1.181592      1.161369      1.135718      1.091193   \n",
       "75%        1.528839      1.513718      1.479795      1.439342      1.369863   \n",
       "max        4.290221      4.248768      4.915347      5.941846      3.567110   \n",
       "\n",
       "       ...          1491          1492          1493          1494  \\\n",
       "count  ...  34753.000000  34753.000000  34753.000000  34753.000000   \n",
       "mean   ...      0.052743      0.057453      0.017153      0.002491   \n",
       "std    ...      0.100033      0.106498      0.040480      0.013691   \n",
       "min    ...      0.000000      0.000000      0.000000      0.000000   \n",
       "25%    ...      0.000000      0.000000      0.000000      0.000000   \n",
       "50%    ...      0.000000      0.000000      0.000000      0.000000   \n",
       "75%    ...      0.067659      0.070126      0.000000      0.000000   \n",
       "max    ...      2.600297      2.848265      0.679852      0.475436   \n",
       "\n",
       "               1495          1496          1497          1498          1499  \\\n",
       "count  34753.000000  34753.000000  34753.000000  34753.000000  34753.000000   \n",
       "mean       0.000955     87.204658      1.578918      2.027050      2.645997   \n",
       "std        0.008248     13.546813      2.657567      2.597257      3.110633   \n",
       "min        0.000000     17.668269      0.000000      0.000000      0.000000   \n",
       "25%        0.000000     84.360504      0.213523      0.388601      0.589623   \n",
       "50%        0.000000     93.056550      0.556586      0.925314      1.298053   \n",
       "75%        0.000000     96.093101      1.692525      2.606178      3.484938   \n",
       "max        0.240096     99.787836     40.711598     27.824519     28.541076   \n",
       "\n",
       "               1500  \n",
       "count  34753.000000  \n",
       "mean       6.543377  \n",
       "std        6.784120  \n",
       "min        0.156372  \n",
       "25%        2.345059  \n",
       "50%        3.862069  \n",
       "75%        7.389831  \n",
       "max       52.183735  \n",
       "\n",
       "[8 rows x 1501 columns]"
      ]
     },
     "execution_count": 110,
     "metadata": {},
     "output_type": "execute_result"
    }
   ],
   "source": [
    "percentages = pd.DataFrame(dummy[:,:,2])\n",
    "percentages.describe()"
   ]
  },
  {
   "cell_type": "code",
   "execution_count": 111,
   "id": "037eb41e",
   "metadata": {},
   "outputs": [
    {
     "ename": "ModuleNotFoundError",
     "evalue": "No module named 'scipy'",
     "output_type": "error",
     "traceback": [
      "\u001b[0;31m---------------------------------------------------------------------------\u001b[0m",
      "\u001b[0;31mModuleNotFoundError\u001b[0m                       Traceback (most recent call last)",
      "\u001b[0;32m/var/folders/h8/t803dxss41g9kj07lkgx95fm0000gn/T/ipykernel_38010/2053051981.py\u001b[0m in \u001b[0;36m<module>\u001b[0;34m\u001b[0m\n\u001b[0;32m----> 1\u001b[0;31m \u001b[0mpercentages\u001b[0m\u001b[0;34m.\u001b[0m\u001b[0mplot\u001b[0m\u001b[0;34m(\u001b[0m\u001b[0mkind\u001b[0m\u001b[0;34m=\u001b[0m\u001b[0;34m'kde'\u001b[0m\u001b[0;34m)\u001b[0m\u001b[0;34m\u001b[0m\u001b[0;34m\u001b[0m\u001b[0m\n\u001b[0m",
      "\u001b[0;32m~/opt/miniconda3/lib/python3.9/site-packages/pandas/plotting/_core.py\u001b[0m in \u001b[0;36m__call__\u001b[0;34m(self, *args, **kwargs)\u001b[0m\n\u001b[1;32m    970\u001b[0m                     \u001b[0mdata\u001b[0m\u001b[0;34m.\u001b[0m\u001b[0mcolumns\u001b[0m \u001b[0;34m=\u001b[0m \u001b[0mlabel_name\u001b[0m\u001b[0;34m\u001b[0m\u001b[0;34m\u001b[0m\u001b[0m\n\u001b[1;32m    971\u001b[0m \u001b[0;34m\u001b[0m\u001b[0m\n\u001b[0;32m--> 972\u001b[0;31m         \u001b[0;32mreturn\u001b[0m \u001b[0mplot_backend\u001b[0m\u001b[0;34m.\u001b[0m\u001b[0mplot\u001b[0m\u001b[0;34m(\u001b[0m\u001b[0mdata\u001b[0m\u001b[0;34m,\u001b[0m \u001b[0mkind\u001b[0m\u001b[0;34m=\u001b[0m\u001b[0mkind\u001b[0m\u001b[0;34m,\u001b[0m \u001b[0;34m**\u001b[0m\u001b[0mkwargs\u001b[0m\u001b[0;34m)\u001b[0m\u001b[0;34m\u001b[0m\u001b[0;34m\u001b[0m\u001b[0m\n\u001b[0m\u001b[1;32m    973\u001b[0m \u001b[0;34m\u001b[0m\u001b[0m\n\u001b[1;32m    974\u001b[0m     \u001b[0m__call__\u001b[0m\u001b[0;34m.\u001b[0m\u001b[0m__doc__\u001b[0m \u001b[0;34m=\u001b[0m \u001b[0m__doc__\u001b[0m\u001b[0;34m\u001b[0m\u001b[0;34m\u001b[0m\u001b[0m\n",
      "\u001b[0;32m~/opt/miniconda3/lib/python3.9/site-packages/pandas/plotting/_matplotlib/__init__.py\u001b[0m in \u001b[0;36mplot\u001b[0;34m(data, kind, **kwargs)\u001b[0m\n\u001b[1;32m     69\u001b[0m             \u001b[0mkwargs\u001b[0m\u001b[0;34m[\u001b[0m\u001b[0;34m\"ax\"\u001b[0m\u001b[0;34m]\u001b[0m \u001b[0;34m=\u001b[0m \u001b[0mgetattr\u001b[0m\u001b[0;34m(\u001b[0m\u001b[0max\u001b[0m\u001b[0;34m,\u001b[0m \u001b[0;34m\"left_ax\"\u001b[0m\u001b[0;34m,\u001b[0m \u001b[0max\u001b[0m\u001b[0;34m)\u001b[0m\u001b[0;34m\u001b[0m\u001b[0;34m\u001b[0m\u001b[0m\n\u001b[1;32m     70\u001b[0m     \u001b[0mplot_obj\u001b[0m \u001b[0;34m=\u001b[0m \u001b[0mPLOT_CLASSES\u001b[0m\u001b[0;34m[\u001b[0m\u001b[0mkind\u001b[0m\u001b[0;34m]\u001b[0m\u001b[0;34m(\u001b[0m\u001b[0mdata\u001b[0m\u001b[0;34m,\u001b[0m \u001b[0;34m**\u001b[0m\u001b[0mkwargs\u001b[0m\u001b[0;34m)\u001b[0m\u001b[0;34m\u001b[0m\u001b[0;34m\u001b[0m\u001b[0m\n\u001b[0;32m---> 71\u001b[0;31m     \u001b[0mplot_obj\u001b[0m\u001b[0;34m.\u001b[0m\u001b[0mgenerate\u001b[0m\u001b[0;34m(\u001b[0m\u001b[0;34m)\u001b[0m\u001b[0;34m\u001b[0m\u001b[0;34m\u001b[0m\u001b[0m\n\u001b[0m\u001b[1;32m     72\u001b[0m     \u001b[0mplot_obj\u001b[0m\u001b[0;34m.\u001b[0m\u001b[0mdraw\u001b[0m\u001b[0;34m(\u001b[0m\u001b[0;34m)\u001b[0m\u001b[0;34m\u001b[0m\u001b[0;34m\u001b[0m\u001b[0m\n\u001b[1;32m     73\u001b[0m     \u001b[0;32mreturn\u001b[0m \u001b[0mplot_obj\u001b[0m\u001b[0;34m.\u001b[0m\u001b[0mresult\u001b[0m\u001b[0;34m\u001b[0m\u001b[0;34m\u001b[0m\u001b[0m\n",
      "\u001b[0;32m~/opt/miniconda3/lib/python3.9/site-packages/pandas/plotting/_matplotlib/core.py\u001b[0m in \u001b[0;36mgenerate\u001b[0;34m(self)\u001b[0m\n\u001b[1;32m    286\u001b[0m         \u001b[0mself\u001b[0m\u001b[0;34m.\u001b[0m\u001b[0m_compute_plot_data\u001b[0m\u001b[0;34m(\u001b[0m\u001b[0;34m)\u001b[0m\u001b[0;34m\u001b[0m\u001b[0;34m\u001b[0m\u001b[0m\n\u001b[1;32m    287\u001b[0m         \u001b[0mself\u001b[0m\u001b[0;34m.\u001b[0m\u001b[0m_setup_subplots\u001b[0m\u001b[0;34m(\u001b[0m\u001b[0;34m)\u001b[0m\u001b[0;34m\u001b[0m\u001b[0;34m\u001b[0m\u001b[0m\n\u001b[0;32m--> 288\u001b[0;31m         \u001b[0mself\u001b[0m\u001b[0;34m.\u001b[0m\u001b[0m_make_plot\u001b[0m\u001b[0;34m(\u001b[0m\u001b[0;34m)\u001b[0m\u001b[0;34m\u001b[0m\u001b[0;34m\u001b[0m\u001b[0m\n\u001b[0m\u001b[1;32m    289\u001b[0m         \u001b[0mself\u001b[0m\u001b[0;34m.\u001b[0m\u001b[0m_add_table\u001b[0m\u001b[0;34m(\u001b[0m\u001b[0;34m)\u001b[0m\u001b[0;34m\u001b[0m\u001b[0;34m\u001b[0m\u001b[0m\n\u001b[1;32m    290\u001b[0m         \u001b[0mself\u001b[0m\u001b[0;34m.\u001b[0m\u001b[0m_make_legend\u001b[0m\u001b[0;34m(\u001b[0m\u001b[0;34m)\u001b[0m\u001b[0;34m\u001b[0m\u001b[0;34m\u001b[0m\u001b[0m\n",
      "\u001b[0;32m~/opt/miniconda3/lib/python3.9/site-packages/pandas/plotting/_matplotlib/hist.py\u001b[0m in \u001b[0;36m_make_plot\u001b[0;34m(self)\u001b[0m\n\u001b[1;32m    106\u001b[0m                 \u001b[0mkwds\u001b[0m\u001b[0;34m[\u001b[0m\u001b[0;34m\"weights\"\u001b[0m\u001b[0;34m]\u001b[0m \u001b[0;34m=\u001b[0m \u001b[0mweights\u001b[0m\u001b[0;34m[\u001b[0m\u001b[0;34m:\u001b[0m\u001b[0;34m,\u001b[0m \u001b[0mi\u001b[0m\u001b[0;34m]\u001b[0m\u001b[0;34m\u001b[0m\u001b[0;34m\u001b[0m\u001b[0m\n\u001b[1;32m    107\u001b[0m \u001b[0;34m\u001b[0m\u001b[0m\n\u001b[0;32m--> 108\u001b[0;31m             \u001b[0martists\u001b[0m \u001b[0;34m=\u001b[0m \u001b[0mself\u001b[0m\u001b[0;34m.\u001b[0m\u001b[0m_plot\u001b[0m\u001b[0;34m(\u001b[0m\u001b[0max\u001b[0m\u001b[0;34m,\u001b[0m \u001b[0my\u001b[0m\u001b[0;34m,\u001b[0m \u001b[0mcolumn_num\u001b[0m\u001b[0;34m=\u001b[0m\u001b[0mi\u001b[0m\u001b[0;34m,\u001b[0m \u001b[0mstacking_id\u001b[0m\u001b[0;34m=\u001b[0m\u001b[0mstacking_id\u001b[0m\u001b[0;34m,\u001b[0m \u001b[0;34m**\u001b[0m\u001b[0mkwds\u001b[0m\u001b[0;34m)\u001b[0m\u001b[0;34m\u001b[0m\u001b[0;34m\u001b[0m\u001b[0m\n\u001b[0m\u001b[1;32m    109\u001b[0m             \u001b[0mself\u001b[0m\u001b[0;34m.\u001b[0m\u001b[0m_append_legend_handles_labels\u001b[0m\u001b[0;34m(\u001b[0m\u001b[0martists\u001b[0m\u001b[0;34m[\u001b[0m\u001b[0;36m0\u001b[0m\u001b[0;34m]\u001b[0m\u001b[0;34m,\u001b[0m \u001b[0mlabel\u001b[0m\u001b[0;34m)\u001b[0m\u001b[0;34m\u001b[0m\u001b[0;34m\u001b[0m\u001b[0m\n\u001b[1;32m    110\u001b[0m \u001b[0;34m\u001b[0m\u001b[0m\n",
      "\u001b[0;32m~/opt/miniconda3/lib/python3.9/site-packages/pandas/plotting/_matplotlib/hist.py\u001b[0m in \u001b[0;36m_plot\u001b[0;34m(cls, ax, y, style, bw_method, ind, column_num, stacking_id, **kwds)\u001b[0m\n\u001b[1;32m    174\u001b[0m         \u001b[0;34m**\u001b[0m\u001b[0mkwds\u001b[0m\u001b[0;34m,\u001b[0m\u001b[0;34m\u001b[0m\u001b[0;34m\u001b[0m\u001b[0m\n\u001b[1;32m    175\u001b[0m     ):\n\u001b[0;32m--> 176\u001b[0;31m         \u001b[0;32mfrom\u001b[0m \u001b[0mscipy\u001b[0m\u001b[0;34m.\u001b[0m\u001b[0mstats\u001b[0m \u001b[0;32mimport\u001b[0m \u001b[0mgaussian_kde\u001b[0m\u001b[0;34m\u001b[0m\u001b[0;34m\u001b[0m\u001b[0m\n\u001b[0m\u001b[1;32m    177\u001b[0m \u001b[0;34m\u001b[0m\u001b[0m\n\u001b[1;32m    178\u001b[0m         \u001b[0my\u001b[0m \u001b[0;34m=\u001b[0m \u001b[0mremove_na_arraylike\u001b[0m\u001b[0;34m(\u001b[0m\u001b[0my\u001b[0m\u001b[0;34m)\u001b[0m\u001b[0;34m\u001b[0m\u001b[0;34m\u001b[0m\u001b[0m\n",
      "\u001b[0;31mModuleNotFoundError\u001b[0m: No module named 'scipy'"
     ]
    },
    {
     "data": {
      "image/png": "[encoded data removed]",
      "text/plain": [
       "<Figure size 432x288 with 1 Axes>"
      ]
     },
     "metadata": {
      "needs_background": "light"
     },
     "output_type": "display_data"
    }
   ],
   "source": [
    "percentages.plot(kind='kde')"
   ]
  },
  {
   "cell_type": "code",
   "execution_count": null,
   "id": "ee58ecec",
   "metadata": {},
   "outputs": [
    {
     "name": "stdout",
     "output_type": "stream",
     "text": [
      "Collecting package metadata (current_repodata.json): done\n",
      "Solving environment: failed with initial frozen solve. Retrying with flexible solve.\n",
      "Solving environment: failed with repodata from current_repodata.json, will retry with next repodata source.\n",
      "Collecting package metadata (repodata.json): done\n",
      "Solving environment: failed with initial frozen solve. Retrying with flexible solve.\n",
      "Solving environment: \\ \n",
      "Found conflicts! Looking for incompatible packages.\n",
      "This can take several minutes.  Press CTRL-C to abort.\n",
      "Examining conflict for libspatialite pyproj libcurl cfitsio fiona hdf5 geotiff | "
     ]
    }
   ],
   "source": [
    "!conda install scipy\n"
   ]
  },
  {
   "cell_type": "code",
   "execution_count": null,
   "id": "872660ce",
   "metadata": {},
   "outputs": [],
   "source": []
  }
 ],
 "metadata": {
  "kernelspec": {
   "display_name": "Python 3 (ipykernel)",
   "language": "python",
   "name": "python3"
  },
  "language_info": {
   "codemirror_mode": {
    "name": "ipython",
    "version": 3
   },
   "file_extension": ".py",
   "mimetype": "text/x-python",
   "name": "python",
   "nbconvert_exporter": "python",
   "pygments_lexer": "ipython3",
   "version": "3.9.7"
  }
 },
 "nbformat": 4,
 "nbformat_minor": 5
}
