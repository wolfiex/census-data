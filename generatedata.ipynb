{
 "cells": [
  {
   "cell_type": "code",
   "execution_count": 1,
   "id": "ad60a1b8",
   "metadata": {},
   "outputs": [],
   "source": [
    "import h5py as h5 \n",
    "from p_tqdm import p_imap,p_map\n",
    "import numpy as np\n",
    "import pandas as pd\n",
    "\n",
    "import os,re,glob\n",
    "__LOC__ = './data/'\n",
    "\n",
    "def mkdir(loc):\n",
    "    try:os.mkdir(loc)\n",
    "    except FileExistsError: None\n",
    "    \n",
    "mkdir(__LOC__)\n",
    "f = h5.File('test.h5', 'r')"
   ]
  },
  {
   "cell_type": "code",
   "execution_count": 76,
   "id": "6e2ab905",
   "metadata": {},
   "outputs": [
    {
     "data": {
      "text/plain": [
       "['indicators', 'geocd', 'values']"
      ]
     },
     "execution_count": 76,
     "metadata": {},
     "output_type": "execute_result"
    }
   ],
   "source": [
    "cols = f.attrs['order'].split(',')\n",
    "cols"
   ]
  },
  {
   "cell_type": "code",
   "execution_count": 3,
   "id": "f2e57275",
   "metadata": {},
   "outputs": [],
   "source": [
    "indi = eval(f.attrs['INDICATORS'])\n",
    "geocd = eval(f.attrs['GEOCD'])\n"
   ]
  },
  {
   "cell_type": "code",
   "execution_count": 4,
   "id": "f3cccb4a",
   "metadata": {},
   "outputs": [
    {
     "data": {
      "text/plain": [
       "((34753, 1501, 3), 34752, 1500)"
      ]
     },
     "execution_count": 4,
     "metadata": {},
     "output_type": "execute_result"
    }
   ],
   "source": [
    "f['indicators'].shape,max(geocd.values()),max(indi.values())\n"
   ]
  },
  {
   "cell_type": "code",
   "execution_count": 5,
   "id": "27e18c99",
   "metadata": {},
   "outputs": [],
   "source": [
    "## CSV and JSON\n",
    "\n",
    "def gen_buff_itext(k):  \n",
    "    j,i=k\n",
    "    warn = False\n",
    "    \n",
    "    newpath_c = f'{__LOC__}indicator_csv/'\n",
    "    newpath_j = f'{__LOC__}indicator_json/'\n",
    "    \n",
    "    data = f['indicators'][:,i,:]\n",
    "    if np.any(data<0):\n",
    "        warn = j\n",
    "        data = np.where(data<-1, 0, data)\n",
    "    \n",
    "    data = pd.DataFrame(data)\n",
    "    data.columns = cols\n",
    "    data.to_csv(f'{newpath_c}{j}.csv')\n",
    "    data.to_json(f'{newpath_j}{j}.json')\n",
    "    \n",
    "    \n",
    "    \n",
    "    \n",
    "    return warn"
   ]
  },
  {
   "cell_type": "code",
   "execution_count": 6,
   "id": "b5994b01",
   "metadata": {},
   "outputs": [],
   "source": [
    "# new indicator area\n",
    "# for i,j in enumerate(indi):\n",
    "\n",
    "# text = re.compile('\\s+')\n",
    "\n",
    "def gen_buff_ifirst(k):  \n",
    "    j,i=k\n",
    "    warn = False\n",
    "    \n",
    "    newpath = f'{__LOC__}indicator_first/'\n",
    "    data = f['indicators'][:,i,:]\n",
    "    if np.any(data<0):\n",
    "        warn = j\n",
    "        data = np.where(data<-1, 0, data)\n",
    "    \n",
    "    data = list(data.flatten()).__str__()\n",
    "    \n",
    "    #     print(f'node ./to_buffer {data} {newpath}{j}.buff ')\n",
    "    os.system(f'node ./to_buffer \"{data}\" {newpath}{j}.buff')\n",
    "    \n",
    "    return warn"
   ]
  },
  {
   "cell_type": "code",
   "execution_count": 7,
   "id": "c37708a7",
   "metadata": {},
   "outputs": [],
   "source": [
    "# old area indicator \n",
    "\n",
    "\n",
    "def gen_buff_lfirst(k):  \n",
    "    j,i=k\n",
    "    warn = False\n",
    "    \n",
    "    newpath = f'{__LOC__}location_first/'\n",
    "    data = f['indicators'][i,:,:]\n",
    "    if np.any(data<0):\n",
    "        warn = j\n",
    "        data = np.where(data<-1, 0, data)\n",
    "    \n",
    "    data = list(data.flatten()).__str__()\n",
    "    \n",
    "    os.system(f'node ./to_buffer \"{data}\" {newpath}{j}.buff')\n",
    "    \n",
    "    return warn"
   ]
  },
  {
   "cell_type": "code",
   "execution_count": null,
   "id": "7cd3fa5a",
   "metadata": {},
   "outputs": [],
   "source": [
    "\n",
    "if __name__ == '__main__':\n",
    "    mkdir(f'{__LOC__}/indicator_first/')\n",
    "    mkdir(f'{__LOC__}/location_first/')\n",
    "    mkdir(f'{__LOC__}/indicator_csv/')\n",
    "    mkdir(f'{__LOC__}/indicator_json/')\n",
    "    \n",
    "   ## intentionally not combigned functions as we will only use one     \n",
    "        \n",
    "    warnings = p_map(gen_buff_ifirst, list(indi.items()))\n",
    "    \n",
    "    warnings2 = p_map(gen_buff_lfirst, list(geocd.items()))\n",
    "    \n",
    "    warnings3 = p_map(gen_buff_itext, list(indi.items()))"
   ]
  },
  {
   "cell_type": "code",
   "execution_count": null,
   "id": "0208a678",
   "metadata": {},
   "outputs": [],
   "source": [
    "warnings"
   ]
  },
  {
   "cell_type": "code",
   "execution_count": null,
   "id": "3828ecaa",
   "metadata": {},
   "outputs": [],
   "source": [
    "'''\n",
    "Note that the data produces some unexpected results, like percentages > 100 and negative numbers'''"
   ]
  },
  {
   "cell_type": "code",
   "execution_count": 8,
   "id": "f13ad7f7",
   "metadata": {
    "scrolled": false
   },
   "outputs": [],
   "source": [
    "    mkdir(f'{__LOC__}/indicator_first/')\n",
    "    mkdir(f'{__LOC__}/location_first/')\n",
    "    mkdir(f'{__LOC__}/indicator_csv/')\n",
    "    mkdir(f'{__LOC__}/indicator_json/')"
   ]
  },
  {
   "cell_type": "code",
   "execution_count": 9,
   "id": "c8eabc74",
   "metadata": {},
   "outputs": [
    {
     "data": {
      "application/vnd.jupyter.widget-view+json": {
       "model_id": "b0fb232b00d1487988dafb8b10a5bd8b",
       "version_major": 2,
       "version_minor": 0
      },
      "text/plain": [
       "  0%|          | 0/1501 [00:00<?, ?it/s]"
      ]
     },
     "metadata": {},
     "output_type": "display_data"
    }
   ],
   "source": [
    "warnings3 = p_map(gen_buff_itext, list(indi.items()))"
   ]
  },
  {
   "cell_type": "code",
   "execution_count": 10,
   "id": "5605e510",
   "metadata": {},
   "outputs": [],
   "source": [
    "def readable(size):\n",
    "    for x in ['bytes', 'KB', 'MB', 'GB', 'TB']:\n",
    "        if size < 1024.0:\n",
    "            return \"%3.1f %s\" % (size, x)\n",
    "        size /= 1024.0\n",
    "\n",
    "    return size"
   ]
  },
  {
   "cell_type": "code",
   "execution_count": 75,
   "id": "1f584ee5",
   "metadata": {},
   "outputs": [
    {
     "name": "stdout",
     "output_type": "stream",
     "text": [
      "./data/indicator_csv 47.0 KB\n",
      "./data/indicator_first 47.0 KB\n",
      "./data/location_first 1.1 MB\n",
      "./data/indicator_json 47.0 KB\n",
      "|             | i_CSV    | i_JSON   | i_Uint    | l_Uint    |\n",
      "|:------------|:---------|:---------|:----------|:----------|\n",
      "| Computate ∆ | 1.5      | 1.6      | 2.29      | 33.2      |\n",
      "| ∑ size      | 751.1 MB | 1.6 GB   | 298.5 MB  | 298.5 MB  |\n",
      "| µ size      | 512.4 KB | 1.1 MB   | 203.6 KB  | 8.8 KB    |\n",
      "| std size    | 40.4 KB  | 40.4 KB  | 0.0 bytes | 0.0 bytes |\n",
      "| # files     | 1501     | 1501     | 1501      | 34753     |\n"
     ]
    },
    {
     "data": {
      "text/html": [
       "<div>\n",
       "<style scoped>\n",
       "    .dataframe tbody tr th:only-of-type {\n",
       "        vertical-align: middle;\n",
       "    }\n",
       "\n",
       "    .dataframe tbody tr th {\n",
       "        vertical-align: top;\n",
       "    }\n",
       "\n",
       "    .dataframe thead th {\n",
       "        text-align: right;\n",
       "    }\n",
       "</style>\n",
       "<table border=\"1\" class=\"dataframe\">\n",
       "  <thead>\n",
       "    <tr style=\"text-align: right;\">\n",
       "      <th></th>\n",
       "      <th>i_CSV</th>\n",
       "      <th>i_JSON</th>\n",
       "      <th>i_Uint</th>\n",
       "      <th>l_Uint</th>\n",
       "    </tr>\n",
       "  </thead>\n",
       "  <tbody>\n",
       "    <tr>\n",
       "      <th>Computate ∆</th>\n",
       "      <td>1.5</td>\n",
       "      <td>1.6</td>\n",
       "      <td>2.29</td>\n",
       "      <td>33.2</td>\n",
       "    </tr>\n",
       "    <tr>\n",
       "      <th>∑ size</th>\n",
       "      <td>751.1 MB</td>\n",
       "      <td>1.6 GB</td>\n",
       "      <td>298.5 MB</td>\n",
       "      <td>298.5 MB</td>\n",
       "    </tr>\n",
       "    <tr>\n",
       "      <th>µ size</th>\n",
       "      <td>512.4 KB</td>\n",
       "      <td>1.1 MB</td>\n",
       "      <td>203.6 KB</td>\n",
       "      <td>8.8 KB</td>\n",
       "    </tr>\n",
       "    <tr>\n",
       "      <th>std size</th>\n",
       "      <td>40.4 KB</td>\n",
       "      <td>40.4 KB</td>\n",
       "      <td>0.0 bytes</td>\n",
       "      <td>0.0 bytes</td>\n",
       "    </tr>\n",
       "    <tr>\n",
       "      <th># files</th>\n",
       "      <td>1501</td>\n",
       "      <td>1501</td>\n",
       "      <td>1501</td>\n",
       "      <td>34753</td>\n",
       "    </tr>\n",
       "  </tbody>\n",
       "</table>\n",
       "</div>"
      ],
      "text/plain": [
       "                i_CSV   i_JSON     i_Uint     l_Uint\n",
       "Computate ∆       1.5      1.6       2.29       33.2\n",
       "∑ size       751.1 MB   1.6 GB   298.5 MB   298.5 MB\n",
       "µ size       512.4 KB   1.1 MB   203.6 KB     8.8 KB\n",
       "std size      40.4 KB  40.4 KB  0.0 bytes  0.0 bytes\n",
       "# files          1501     1501       1501      34753"
      ]
     },
     "execution_count": 75,
     "metadata": {},
     "output_type": "execute_result"
    }
   ],
   "source": [
    "folders = glob.glob('./data/*')\n",
    "fdf = pd.DataFrame([])\n",
    "\n",
    "compute = [1.5,2.29,33.2,1.6]\n",
    "size = []\n",
    "mean_fs = []\n",
    "std_fs =[]\n",
    "nfiles = []\n",
    "\n",
    "for i in folders:\n",
    "    print(i,readable(os.stat(i).st_size))\n",
    "    \n",
    "    \n",
    "    \n",
    "    allf = [os.stat(i).st_size for i in glob.glob(i+'/*')]\n",
    "    size.append(readable(np.sum(allf)))\n",
    "    mean_fs.append(readable(np.mean(allf)))\n",
    "    std_fs.append(readable(np.std(allf)))\n",
    "    nfiles.append(len(allf))\n",
    "    \n",
    "ddf = pd.DataFrame([compute,size,mean_fs,std_fs,nfiles],index = 'Computate ∆,∑ size,µ size,std size,# files'.split(','),columns='i_CSV,i_Uint,l_Uint,i_JSON'.split(',') )\n",
    "ddf = ddf[sorted(ddf.columns)]\n",
    "print(str(ddf.to_markdown()))\n",
    "ddf"
   ]
  },
  {
   "cell_type": "code",
   "execution_count": 56,
   "id": "99ab6665",
   "metadata": {},
   "outputs": [
    {
     "data": {
      "image/png": "[encoded data removed]",
      "text/plain": [
       "<Figure size 864x504 with 1 Axes>"
      ]
     },
     "metadata": {},
     "output_type": "display_data"
    }
   ],
   "source": [
    "import matplotlib.pyplot as plt\n",
    "fig, ax = plt.subplots(figsize=(12, 7))\n",
    "# Remove top and right border\n",
    "ax.spines['top'].set_visible(False)\n",
    "ax.spines['right'].set_visible(False)\n",
    "ax.spines['left'].set_visible(False)\n",
    "# Remove y-axis tick marks\n",
    "ax.yaxis.set_ticks_position('none')\n",
    "\n",
    "# Set plot title\n",
    "ax.set_title('File size Distribution')\n",
    "# Add major gridlines in the y-axis\n",
    "ax.grid(color='grey', axis='y', linestyle='-', linewidth=0.25, alpha=0.5)\n",
    "# Set species names as labels for the boxplot\n",
    "\n",
    "# Set the colors for each distribution\n",
    "colors = ['#73020C', '#426A8C', '#D94D1A']\n",
    "\n",
    "ax.boxplot([os.stat(i).st_size for i in glob.glob('./data/indicator_first/*')], positions=[1], labels=['Uint 32bit'])\n",
    "ax.boxplot([os.stat(i).st_size for i in glob.glob('./data/indicator_csv/*')], positions=[2], labels=['CSV'])\n",
    "ax.boxplot([os.stat(i).st_size for i in glob.glob('./data/indicator_json/*')], positions=[3], labels=['JSON'])\n",
    "ax.set_yscale('log')\n",
    "plt.ylabel('bytes per file')\n",
    "\n",
    "plt.show()\n"
   ]
  },
  {
   "cell_type": "code",
   "execution_count": null,
   "id": "6a16176d",
   "metadata": {},
   "outputs": [],
   "source": [
    "\n"
   ]
  },
  {
   "cell_type": "code",
   "execution_count": 57,
   "id": "1be7a1db",
   "metadata": {},
   "outputs": [
    {
     "name": "stdout",
     "output_type": "stream",
     "text": [
      "                  File Size (bytes)\n",
      "0  UInt8 (32bit)             208518\n",
      "1  UInt8 (32bit)             208518\n",
      "2  UInt8 (32bit)             208518\n",
      "3  UInt8 (32bit)             208518\n",
      "4  UInt8 (32bit)             208518\n"
     ]
    },
    {
     "data": {
      "image/png": "[encoded data removed]",
      "text/plain": [
       "<Figure size 640x480 with 1 Axes>"
      ]
     },
     "metadata": {},
     "output_type": "display_data"
    }
   ],
   "source": [
    "from matplotlib import pyplot as plt\n",
    "import seaborn as sns\n",
    "sns.set_style(\"darkgrid\")\n",
    "df1 = pd.DataFrame([os.stat(i).st_size for i in glob.glob('./data/indicator_first/*')])\n",
    "df2 = pd.DataFrame([os.stat(i).st_size for i in glob.glob('./data/indicator_csv/*')])\n",
    "df3 = pd.DataFrame([os.stat(i).st_size for i in glob.glob('./data/indicator_json/*')])\n",
    "\n",
    "\n",
    "\n",
    "cdf = pd.concat([df1, df2, df3],axis=1)  \n",
    "cdf.columns = ['UInt8 (32bit)','CSV','JSON']\n",
    "# CONCATENATE\n",
    "mdf = pd.melt(cdf, var_name=[''])      # MELT\n",
    "mdf.columns=['','File Size (bytes)']\n",
    "print(mdf.head())\n",
    "plt.figure(figsize=(8, 6), dpi=80)\n",
    "\n",
    "# ax = sns.boxplot(x=\"\", y=\"File Size (bytes)\", hue=\"\", data=mdf,)  # RUN PLOT   \n",
    "ax = sns.violinplot(data=cdf)    \n",
    "\n",
    "ax.set_yscale('log')\n",
    "plt.ylabel('File Size (bytes)')\n",
    "plt.show()\n",
    "plt.tight_layout()\n",
    "plt.clf()\n",
    "plt.close()"
   ]
  },
  {
   "cell_type": "code",
   "execution_count": null,
   "id": "d7b63db6",
   "metadata": {},
   "outputs": [],
   "source": []
  },
  {
   "cell_type": "code",
   "execution_count": null,
   "id": "bcde4a63",
   "metadata": {},
   "outputs": [],
   "source": []
  },
  {
   "cell_type": "code",
   "execution_count": null,
   "id": "f9cb096d",
   "metadata": {},
   "outputs": [],
   "source": []
  }
 ],
 "metadata": {
  "kernelspec": {
   "display_name": "Python 3 (ipykernel)",
   "language": "python",
   "name": "python3"
  },
  "language_info": {
   "codemirror_mode": {
    "name": "ipython",
    "version": 3
   },
   "file_extension": ".py",
   "mimetype": "text/x-python",
   "name": "python",
   "nbconvert_exporter": "python",
   "pygments_lexer": "ipython3",
   "version": "3.9.7"
  }
 },
 "nbformat": 4,
 "nbformat_minor": 5
}
